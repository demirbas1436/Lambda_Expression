{
  "metadata": {
    "kernelspec": {
      "name": "python",
      "display_name": "Python (Pyodide)",
      "language": "python"
    },
    "language_info": {
      "codemirror_mode": {
        "name": "python",
        "version": 3
      },
      "file_extension": ".py",
      "mimetype": "text/x-python",
      "name": "python",
      "nbconvert_exporter": "python",
      "pygments_lexer": "ipython3",
      "version": "3.8"
    }
  },
  "nbformat_minor": 4,
  "nbformat": 4,
  "cells": [
    {
      "cell_type": "code",
      "source": "multyple = lambda x,y: x*y",
      "metadata": {
        "trusted": true
      },
      "outputs": [],
      "execution_count": 2
    },
    {
      "cell_type": "code",
      "source": "multyple(4,3)",
      "metadata": {
        "trusted": true
      },
      "outputs": [
        {
          "execution_count": 3,
          "output_type": "execute_result",
          "data": {
            "text/plain": "12"
          },
          "metadata": {}
        }
      ],
      "execution_count": 3
    },
    {
      "cell_type": "code",
      "source": "power = lambda x,y: x**y",
      "metadata": {
        "trusted": true
      },
      "outputs": [],
      "execution_count": 4
    },
    {
      "cell_type": "code",
      "source": "power(2,4)",
      "metadata": {
        "trusted": true
      },
      "outputs": [
        {
          "execution_count": 5,
          "output_type": "execute_result",
          "data": {
            "text/plain": "16"
          },
          "metadata": {}
        }
      ],
      "execution_count": 5
    },
    {
      "cell_type": "code",
      "source": "# map and lambda function to process lists",
      "metadata": {
        "trusted": true
      },
      "outputs": [],
      "execution_count": 6
    },
    {
      "cell_type": "code",
      "source": "some_num = [2, 4, 6]",
      "metadata": {
        "trusted": true
      },
      "outputs": [],
      "execution_count": 7
    },
    {
      "cell_type": "code",
      "source": "double = map(lambda x: x+x, some_num)",
      "metadata": {
        "trusted": true
      },
      "outputs": [],
      "execution_count": 8
    },
    {
      "cell_type": "code",
      "source": "list(double)",
      "metadata": {
        "trusted": true
      },
      "outputs": [
        {
          "execution_count": 9,
          "output_type": "execute_result",
          "data": {
            "text/plain": "[4, 8, 12]"
          },
          "metadata": {}
        }
      ],
      "execution_count": 9
    },
    {
      "cell_type": "code",
      "source": "# Bu kodda map fonksiyonu kullanıldı, çünkü map fonksiyonu bir işlevi bir veri koleksiyonunun (liste, demet, vb.) her elemanına uygulamak\n# için kullanılır. Bu sayede, veriler üzerinde döngü yapmak yerine, daha hızlı ve daha az kod yazarak işlem yapılabilir.",
      "metadata": {
        "trusted": true
      },
      "outputs": [],
      "execution_count": 10
    },
    {
      "cell_type": "code",
      "source": "strings = [\"My\", \"Python\"]",
      "metadata": {
        "trusted": true
      },
      "outputs": [],
      "execution_count": 13
    },
    {
      "cell_type": "code",
      "source": "cap = map(lambda x: str.upper(x), strings)",
      "metadata": {
        "trusted": true
      },
      "outputs": [],
      "execution_count": 14
    },
    {
      "cell_type": "code",
      "source": "list(cap)",
      "metadata": {
        "trusted": true
      },
      "outputs": [
        {
          "execution_count": 15,
          "output_type": "execute_result",
          "data": {
            "text/plain": "['MY', 'PYTHON']"
          },
          "metadata": {}
        }
      ],
      "execution_count": 15
    },
    {
      "cell_type": "code",
      "source": "# Sorting data in Python with lambda function",
      "metadata": {
        "trusted": true
      },
      "outputs": [],
      "execution_count": 16
    },
    {
      "cell_type": "code",
      "source": "attendance = [35, 39, 32, 37, 30, 34]",
      "metadata": {
        "trusted": true
      },
      "outputs": [],
      "execution_count": 17
    },
    {
      "cell_type": "code",
      "source": "sorted(attendance, reverse=True)",
      "metadata": {
        "trusted": true
      },
      "outputs": [
        {
          "execution_count": 18,
          "output_type": "execute_result",
          "data": {
            "text/plain": "[39, 37, 35, 34, 32, 30]"
          },
          "metadata": {}
        }
      ],
      "execution_count": 18
    },
    {
      "cell_type": "code",
      "source": "attendance.sort(reverse=True)",
      "metadata": {
        "trusted": true
      },
      "outputs": [],
      "execution_count": 20
    },
    {
      "cell_type": "code",
      "source": "attendance",
      "metadata": {
        "trusted": true
      },
      "outputs": [
        {
          "execution_count": 21,
          "output_type": "execute_result",
          "data": {
            "text/plain": "[39, 37, 35, 34, 32, 30]"
          },
          "metadata": {}
        }
      ],
      "execution_count": 21
    },
    {
      "cell_type": "code",
      "source": "attendance.sort(key = lambda x: x*1.5)",
      "metadata": {
        "trusted": true
      },
      "outputs": [],
      "execution_count": 22
    },
    {
      "cell_type": "code",
      "source": "attendance",
      "metadata": {
        "trusted": true
      },
      "outputs": [
        {
          "execution_count": 23,
          "output_type": "execute_result",
          "data": {
            "text/plain": "[30, 32, 34, 35, 37, 39]"
          },
          "metadata": {}
        }
      ],
      "execution_count": 23
    },
    {
      "cell_type": "code",
      "source": "#  sort() metodu, anahtar değerlerine göre sıralama yapar, ancak listenin elemanlarını değiştirmez. Yani, attendance listesindeki 20 sayısının\n# anahtar değeri 30’dur, ancak sıralama sonrasında listenin ilk elemanı olarak kalmaz, anahtar değeri en küçük olan 10 sayısının yerine geçer.\n# Aynı şekilde, 10 sayısının anahtar değeri 15’tir, ancak sıralama sonrasında listenin ikinci elemanı olarak kalmaz, anahtar değeri ikinci en\n# küçük olan 20 sayısının yerine geçer. Ve son olarak, 30 sayısının anahtar değeri 45’tir, ancak sıralama sonrasında listenin üçüncü elemanı olarak\n# kalmaz, anahtar değeri en büyük olan 30 sayısının yerine geçer. Bu şekilde, liste [10, 20, 30] olarak sıralanmış olur.",
      "metadata": {
        "trusted": true
      },
      "outputs": [],
      "execution_count": null
    },
    {
      "cell_type": "code",
      "source": "attendance = [20, 10, 30]\nprint(\"Orijinal liste:\", attendance)\nprint(\"Anahtar değerleri:\", list(map(lambda x: x*1.5, attendance)))\nattendance.sort(key = lambda x: x*1.5)\nprint(\"Sıralanmış liste:\", attendance)",
      "metadata": {
        "trusted": true
      },
      "outputs": [
        {
          "name": "stdout",
          "text": "Orijinal liste: [20, 10, 30]\nAnahtar değerleri: [30.0, 15.0, 45.0]\nSıralanmış liste: [10, 20, 30]\n",
          "output_type": "stream"
        }
      ],
      "execution_count": 27
    },
    {
      "cell_type": "code",
      "source": "class_att = [(\"9A\", 35), (\"9B\", 37), (\"9C\", 30), (\"9D\", 32), (\"9E\", 34)]",
      "metadata": {
        "trusted": true
      },
      "outputs": [],
      "execution_count": 25
    },
    {
      "cell_type": "code",
      "source": "sorted(class_att, key = lambda x: x[1])",
      "metadata": {
        "trusted": true
      },
      "outputs": [
        {
          "execution_count": 26,
          "output_type": "execute_result",
          "data": {
            "text/plain": "[('9C', 30), ('9D', 32), ('9E', 34), ('9A', 35), ('9B', 37)]"
          },
          "metadata": {}
        }
      ],
      "execution_count": 26
    },
    {
      "cell_type": "code",
      "source": "#  sorted() fonksiyonu, verilen bir yinelenebilir nesneyi (liste, demet, sözlük, vb.) sıralayarak yeni bir liste döndürür.\n# sorted() fonksiyonu, key parametresi alabilir. Bu parametre, sıralama için bir kriter belirleyen bir fonksiyon veya başka bir\n# çağrılabilir olmalıdır.",
      "metadata": {
        "trusted": true
      },
      "outputs": [],
      "execution_count": null
    }
  ]
}